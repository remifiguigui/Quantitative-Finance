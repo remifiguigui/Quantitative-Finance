{
 "cells": [
  {
   "cell_type": "markdown",
   "id": "4610bb31",
   "metadata": {},
   "source": [
    "# Monte Carlo Variance Reduction Methods - Antithetic\n",
    "\n",
    "\n",
    "We will investigate way to reduce the variance of results from a Monte Carlo simulation method when valuing financial derivatives. The mathematic notation and examples are from Les Clewlow and Chris Strickland's book Implementing Derivatives Models.\n",
    "\n",
    "Unfortunately, although a great method for approximating option values with complex payoffs or high dimensionality, in order to get an acceptably accurate estimate we must perform a large number of simulations M. Instead we can lean on Variance Reduction methods which work on the same principles as that of hedging an option position. i.e. the variability of a hedged option portfolio will have a smaller variance that that of it's unhedged counterpart."
   ]
  },
  {
   "cell_type": "code",
   "execution_count": 1,
   "id": "a3be6190",
   "metadata": {},
   "outputs": [],
   "source": [
    "# Import dependencies\n",
    "import math\n",
    "import numpy as np\n",
    "import pandas as pd\n",
    "import datetime\n",
    "import scipy.stats as stats\n",
    "import matplotlib.pyplot as plt"
   ]
  },
  {
   "cell_type": "markdown",
   "id": "a7abd0e0",
   "metadata": {},
   "source": [
    "## Antithetic Variates\n",
    "\n",
    "Let's write an option on asset $S_1$ and another option on asset $S_2$ that is perfectly negatively correlated with $S_1$ and which currently has the same price. $S_1$ and $S_2$ satisfy the following Stochastic Differential Equations:\n",
    "\n",
    "$\\large dS_{1,t} = rdS_{1,t}dt+\\sigma dS_{1,t}dz_t$\n",
    "\n",
    "$\\large dS_{2,t} = rdS_{2,t}dt-\\sigma dS_{2,t}dz_t$\n",
    "\n",
    "Since the price and volatility of the two assets are identical, so is the value of these two options. However, the variance of a portfolio pay-off containing both of these contracts is much less than the variance of the pay-off of each individual contract. In essence we are removing the large spike in probability distribution of a single contract pay-off. i.e. Basic Intuition: when one option pays out, the other does not."
   ]
  },
  {
   "cell_type": "markdown",
   "id": "fc6c57ee",
   "metadata": {},
   "source": [
    "## Implementation of Antithetic Variate\n",
    "​\n",
    "To implement an antithetic variate we create a hypothetical asset which is perfectly negatively correlated with the original asset. Implementation is very simple, and if we consider the example of the European Call Option. Our simulated pay-offs are under the following $S_t$ dynamics:\n",
    "​\n",
    "$\\large S_{t+\\Delta t} = S_{t} \\exp( \\nu \\Delta t + \\sigma (z_{t+\\Delta t}- z_t) )$\n",
    "​\n",
    "Where $(z_{t+\\Delta t}- z_t) \\sim N(0,\\Delta t) \\sim \\sqrt{\\Delta t} N(0,1) \\sim \\sqrt{\\Delta t} \\epsilon_i$\n",
    "​\n",
    "### Contract Simulation\n",
    "​\n",
    "- $\\large C_{T,i} = max(0, S \\exp( \\nu \\Delta T + \\sigma \\sqrt{T} (\\epsilon_i) ) - K)$\n",
    "​\n",
    "- $\\large \\bar{C}_{T,i} = max(0, S \\exp( \\nu \\Delta T + \\sigma \\sqrt{T} (-\\epsilon_i) ) - K)$"
   ]
  },
  {
   "cell_type": "code",
   "execution_count": 2,
   "id": "4220e092",
   "metadata": {},
   "outputs": [
    {
     "name": "stdout",
     "output_type": "stream",
     "text": [
      "0.1643835616438356\n"
     ]
    }
   ],
   "source": [
    "# initial derivative parameters\n",
    "S = 101.15          #stock price\n",
    "K = 98.01           #strike price\n",
    "vol = 0.0991        #volatility (%)\n",
    "r = 0.015            #risk-free rate (%)\n",
    "N = 10              #number of time steps\n",
    "M = 1000            #number of simulations\n",
    "\n",
    "market_value = 3.86 #market price of option\n",
    "T = ((datetime.date(2022,3,17)-datetime.date(2022,1,17)).days+1)/365    #time in years\n",
    "print(T)"
   ]
  },
  {
   "cell_type": "markdown",
   "id": "85740289",
   "metadata": {},
   "source": [
    "## Slow Solution - Steps\n",
    "We break it down into slow discretized steps, although for the purposes of a European Call Option we do not have to take steps as the discretization perfectly represents the SDE."
   ]
  },
  {
   "cell_type": "code",
   "execution_count": 22,
   "id": "0a97a3e8",
   "metadata": {},
   "outputs": [
    {
     "name": "stdout",
     "output_type": "stream",
     "text": [
      "Call value is $3.81 with SE +/- 0.03\n"
     ]
    }
   ],
   "source": [
    "# Precompute constants\n",
    "dt = T/N\n",
    "nudt = (r - 0.5*vol**2)*dt\n",
    "volsdt = vol*np.sqrt(dt)\n",
    "lnS = np.log(S)\n",
    "\n",
    "# Standard Error Placeholders\n",
    "sum_CT = 0\n",
    "sum_CT2 = 0\n",
    "\n",
    "# Monte Carlo Method\n",
    "for i in range(M):\n",
    "    lnSt1 = lnS\n",
    "    lnSt2 = lnS\n",
    "    for j in range(N):\n",
    "        # Perfectly Negatively Correlated Assets\n",
    "        epsilon = np.random.normal()\n",
    "        lnSt1 = lnSt1 + nudt + volsdt*epsilon\n",
    "        lnSt2 = lnSt2 + nudt - volsdt*epsilon\n",
    "\n",
    "    ST1 = np.exp(lnSt1)\n",
    "    ST2 = np.exp(lnSt2)\n",
    "    CT = 0.5 * ( max(0, ST1 - K) + max(0, ST2 - K) )\n",
    "    sum_CT = sum_CT + CT\n",
    "    sum_CT2 = sum_CT2 + CT*CT\n",
    "\n",
    "# Compute Expectation and SE\n",
    "C0 = np.exp(-r*T)*sum_CT/M\n",
    "sigma = np.sqrt( (sum_CT2 - sum_CT*sum_CT/M)*np.exp(-2*r*T) / (M-1) )\n",
    "SE = sigma/np.sqrt(M)\n",
    "\n",
    "print(\"Call value is ${0} with SE +/- {1}\".format(np.round(C0,2),np.round(SE,2)))"
   ]
  },
  {
   "cell_type": "markdown",
   "id": "150d31ae",
   "metadata": {},
   "source": [
    "## Fast Solution - Vectorized\n",
    "\n",
    "- Only 1 Step is Necessary in this example!\n",
    "\n",
    "For simple processes where the SDE does not need to be approximated like in the case of Geometric Brownian Motion used for calculating a European Option Price, we can just simulate the variables at the final Time Step as Brownian Motion scales with time and independent increments."
   ]
  },
  {
   "cell_type": "code",
   "execution_count": 36,
   "id": "fb47518a",
   "metadata": {},
   "outputs": [
    {
     "name": "stdout",
     "output_type": "stream",
     "text": [
      "Call value is $3.83 with SE +/- 0.03\n"
     ]
    }
   ],
   "source": [
    "#precompute constants\n",
    "N = 1\n",
    "dt = T/N\n",
    "nudt = (r - 0.5*vol**2)*dt\n",
    "volsdt = vol*np.sqrt(dt)\n",
    "lnS = np.log(S)\n",
    "\n",
    "# Monte Carlo Method\n",
    "Z = np.random.normal(size=(N, M))\n",
    "delta_lnSt1 = nudt + volsdt*Z\n",
    "delta_lnSt2 = nudt - volsdt*Z\n",
    "lnSt1 = lnS + np.cumsum(delta_lnSt1, axis=0)\n",
    "lnSt2 = lnS + np.cumsum(delta_lnSt2, axis=0)\n",
    "\n",
    "# Compute Expectation and SE\n",
    "ST1 = np.exp(lnSt1)\n",
    "ST2 = np.exp(lnSt2)\n",
    "CT = 0.5 * ( np.maximum(0, ST1[-1] - K) + np.maximum(0, ST2[-1] - K) )\n",
    "C0 = np.exp(-r*T)*np.sum(CT)/M\n",
    "\n",
    "sigma = np.sqrt( np.sum( (CT - C0)**2) / (M-1) )\n",
    "SE = sigma/np.sqrt(M)\n",
    "\n",
    "print(\"Call value is ${0} with SE +/- {1}\".format(np.round(C0,2),np.round(SE,2)))"
   ]
  },
  {
   "cell_type": "markdown",
   "id": "7332e74b",
   "metadata": {},
   "source": [
    "### Compare without Antithetic Variate"
   ]
  },
  {
   "cell_type": "code",
   "execution_count": 38,
   "id": "e36327c3",
   "metadata": {},
   "outputs": [
    {
     "name": "stdout",
     "output_type": "stream",
     "text": [
      "Call value is $3.83 with SE +/- 0.03\n"
     ]
    }
   ],
   "source": [
    "#precompute constants\n",
    "N = 1\n",
    "dt = T/N\n",
    "nudt = (r - 0.5*vol**2)*dt\n",
    "volsdt = vol*np.sqrt(dt)\n",
    "lnS = np.log(S)\n",
    "\n",
    "# Monte Carlo Method\n",
    "Z = np.random.normal(size=(N, M))\n",
    "delta_lnSt = nudt + volsdt*Z\n",
    "lnSt = lnS + np.cumsum(delta_lnSt, axis=0)\n",
    "lnSt = np.concatenate( (np.full(shape=(1, M), fill_value=lnS), lnSt ) )\n",
    "\n",
    "# Compute Expectation and SE\n",
    "ST = np.exp(lnSt)\n",
    "CT = np.maximum(0, ST - K)\n",
    "C0w = np.exp(-r*T)*np.sum(CT[-1])/M\n",
    "\n",
    "sigma = np.sqrt( np.sum( (CT[-1] - C0)**2) / (M-1) )\n",
    "SEw = sigma/np.sqrt(M)\n",
    "\n",
    "print(\"Call value is ${0} with SE +/- {1}\".format(np.round(C0,2),np.round(SE,2)))"
   ]
  },
  {
   "cell_type": "markdown",
   "id": "2a0f92c9",
   "metadata": {},
   "source": [
    "# Visualisation of Convergence"
   ]
  },
  {
   "cell_type": "code",
   "execution_count": 39,
   "id": "2886dc9a",
   "metadata": {},
   "outputs": [
    {
     "data": {
      "image/png": "[encoded data removed]",
      "text/plain": [
       "<Figure size 640x480 with 1 Axes>"
      ]
     },
     "metadata": {},
     "output_type": "display_data"
    }
   ],
   "source": [
    "x1 = np.linspace(C0-3*SE, C0-1*SE, 100)\n",
    "x2 = np.linspace(C0-1*SE, C0+1*SE, 100)\n",
    "x3 = np.linspace(C0+1*SE, C0+3*SE, 100)\n",
    "xw = np.linspace(C0w-3*SEw, C0w+3*SEw, 100)\n",
    "\n",
    "s1 = stats.norm.pdf(x1, C0, SE)\n",
    "s2 = stats.norm.pdf(x2, C0, SE)\n",
    "s3 = stats.norm.pdf(x3, C0, SE)\n",
    "sw = stats.norm.pdf(xw, C0w, SEw)\n",
    "\n",
    "plt.fill_between(x1, s1, color='tab:blue',label='> StDev')\n",
    "plt.fill_between(x2, s2, color='cornflowerblue',label='1 StDev')\n",
    "plt.fill_between(x3, s3, color='tab:blue')\n",
    "plt.plot(xw, sw, 'g-')\n",
    "plt.fill_between(xw, sw, alpha=0.2, color='tab:green', label='w/o Antithetic')\n",
    "\n",
    "plt.plot([C0,C0],[0, max(s2)*1.1], 'k',\n",
    "        label='Theoretical Value')\n",
    "plt.plot([C0w,C0w],[0, max(s2)*1.1], color='tab:green',\n",
    "        label='Value w/o Antithetic')\n",
    "plt.plot([market_value,market_value],[0, max(s2)*1.1], 'r',\n",
    "        label='Market Value')\n",
    "\n",
    "plt.ylabel(\"Probability\")\n",
    "plt.xlabel(\"Option Price\")\n",
    "plt.legend()\n",
    "plt.show()"
   ]
  },
  {
   "cell_type": "markdown",
   "id": "a15858cf",
   "metadata": {},
   "source": [
    "## Benefits of Antithetic Variance Reduction\n",
    "\n",
    "1. By using pairs $(\\epsilon_i, -\\epsilon_i)$ in the simulation we can now achieve a more accurate estimate from M pairs of $(C_{T,i}, \\bar{C}_{T,i})$ than from 2M of ${C}_{T,i}$.\n",
    "\n",
    "2. It is also computationally cheaper to generate the pair $(C_{T,i}, \\bar{C}_{T,i})$ than two instances of $C_{T,i}$\n",
    "\n",
    "3. Method also ensures that mean of the normally distributed samples $\\epsilon$ is exactly zero with helps improve the simulation"
   ]
  },
  {
   "cell_type": "code",
   "execution_count": null,
   "id": "3e56ecb4",
   "metadata": {},
   "outputs": [],
   "source": []
  }
 ],
 "metadata": {
  "kernelspec": {
   "display_name": "Python 3 (ipykernel)",
   "language": "python",
   "name": "python3"
  },
  "language_info": {
   "codemirror_mode": {
    "name": "ipython",
    "version": 3
   },
   "file_extension": ".py",
   "mimetype": "text/x-python",
   "name": "python",
   "nbconvert_exporter": "python",
   "pygments_lexer": "ipython3",
   "version": "3.11.5"
  }
 },
 "nbformat": 4,
 "nbformat_minor": 5
}
